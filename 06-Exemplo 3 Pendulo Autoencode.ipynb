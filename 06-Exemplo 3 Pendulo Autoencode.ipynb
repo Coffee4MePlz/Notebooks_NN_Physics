{
 "cells": [
  {
   "cell_type": "markdown",
   "metadata": {},
   "source": [
    "## Para gerar os dados Executar o arquivo data.py"
   ]
  },
  {
   "cell_type": "markdown",
   "metadata": {},
   "source": [
    "## As funções uteis estão no arquivo fuction.py"
   ]
  },
  {
   "cell_type": "code",
   "execution_count": 8,
   "metadata": {},
   "outputs": [],
   "source": [
    "from fuction import *"
   ]
  },
  {
   "cell_type": "code",
   "execution_count": 9,
   "metadata": {},
   "outputs": [],
   "source": [
    "# Caminho para o diretório das imagens\n",
    "root_dir = 'data_pendulo'  # Ajuste para o diretório onde suas imagens estão salvas\n",
    "\n",
    "# DataLoader\n",
    "batch_size = 30\n",
    "dataset = CustomImageDataset(root_dir)\n",
    "model = SimpleAutoencoder(neck=1)  # Ajuste o parâmetro 'neck' conforme necessário\n",
    "\n",
    "trainer = Trainer(model, dataset, batch_size=batch_size,device=\"cuda\")\n",
    "trainer.train(epochs=10000)"
   ]
  },
  {
   "cell_type": "code",
   "execution_count": 10,
   "metadata": {},
   "outputs": [],
   "source": [
    "trainer.model.eval()  # Coloca o modelo em modo de avaliação\n",
    "\n",
    "# Supondo que você quer testar com a primeira imagem do dataset\n",
    "dataiter = iter(trainer.dataloader)\n",
    "images = next(dataiter)\n",
    "# Executar a imagem pela rede\n",
    "output,output2 = trainer.model(images[0].unsqueeze(0).to(\"cuda\"))\n",
    "\n",
    "# Converte a saída do modelo e a entrada para exibição\n",
    "output = output.cpu().detach().numpy().squeeze()\n",
    "input_image = images[0].cpu().detach().numpy().squeeze()\n",
    "\n",
    "# Plotando as imagens\n",
    "fig, ax = plt.subplots(1, 2, figsize=(10, 5))\n",
    "ax[0].imshow(input_image, cmap='gray')\n",
    "ax[0].set_title('Imagem Original')\n",
    "ax[0].axis('off')\n",
    "ax[1].imshow(output, cmap='gray')\n",
    "ax[1].set_title('Imagem Reconstruída')\n",
    "ax[1].axis('off')\n",
    "plt.show()"
   ]
  }
 ],
 "metadata": {
  "kernelspec": {
   "display_name": "Python 3",
   "language": "python",
   "name": "python3"
  },
  "language_info": {
   "codemirror_mode": {
    "name": "ipython",
    "version": 3
   },
   "file_extension": ".py",
   "mimetype": "text/x-python",
   "name": "python",
   "nbconvert_exporter": "python",
   "pygments_lexer": "ipython3",
   "version": "3.11.8"
  }
 },
 "nbformat": 4,
 "nbformat_minor": 2
}
