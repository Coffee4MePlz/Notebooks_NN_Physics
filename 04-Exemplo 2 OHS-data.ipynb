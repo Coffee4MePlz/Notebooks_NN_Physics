{
 "cells": [
  {
   "cell_type": "code",
   "execution_count": 1,
   "metadata": {},
   "outputs": [],
   "source": [
    "#from sklearn import linear_model\n",
    "from torch import nn\n",
    "\n",
    "import matplotlib.pyplot as plt\n",
    "import pandas as pd\n",
    "import numpy  as np\n",
    "import torch  as tc"
   ]
  },
  {
   "cell_type": "code",
   "execution_count": 2,
   "metadata": {},
   "outputs": [],
   "source": [
    "class SineActivation(nn.Module):\n",
    "    def __init__(self): \n",
    "        super(SineActivation, self).__init__() \n",
    "    def forward(self, x):\n",
    "        return tc.sin(x)\n",
    "    \n",
    "class Regressao_M(nn.Module):\n",
    "    def __init__(self, neuronio, M, output=1, activation=nn.Mish(), creat_p=False, N_of_paramater=1):\n",
    "        super().__init__()\n",
    "        self.neuronio = neuronio\n",
    "        self.M = M\n",
    "        self.output = output\n",
    "        self.creat_p = creat_p\n",
    "        self.N_of_paramater = N_of_paramater\n",
    "\n",
    "        # Lista para armazenar as camadas lineares\n",
    "        self.hidden_layers = nn.ModuleList([nn.Linear(1, neuronio)])\n",
    "        self.hidden_layers.extend([nn.Linear(neuronio, neuronio) for _ in range(M-1)])\n",
    "        \n",
    "        # Última camada linear\n",
    "        self.output_layer = nn.Linear(neuronio, output)\n",
    "\n",
    "        # Função de ativação\n",
    "        self.activation = activation\n",
    "\n",
    "        if creat_p:\n",
    "            self.acceleration = nn.Parameter(tc.randn(N_of_paramater))\n",
    "\n",
    "    def forward(self, x):\n",
    "        for layer in self.hidden_layers:\n",
    "            x = self.activation(layer(x))\n",
    "        x = self.output_layer(x)\n",
    "        return x\n"
   ]
  },
  {
   "cell_type": "markdown",
   "metadata": {},
   "source": [
    "# Oscilador harmonico Simples"
   ]
  },
  {
   "cell_type": "markdown",
   "metadata": {},
   "source": [
    "$$\n",
    "\n",
    "\\frac{{d^2x}}{{dt^2}} + \\omega_0^2 x =0\n",
    "\n",
    "$$\n",
    "\n",
    "$ \\omega_0 = \\sqrt{g/l}$ é a frequencia de oscilação em termo de g = gravidade da mola e l=comprimento do pendulo. \n",
    "\n",
    "Solução considerando $ \\omega(0)=0$ e $ \\theta(0)=\\theta_0$:\n",
    "\n",
    "\n",
    "$$\n",
    "\\theta(t) = \\theta_0cos(w_0t) \n",
    "$$"
   ]
  },
  {
   "cell_type": "code",
   "execution_count": 3,
   "metadata": {},
   "outputs": [],
   "source": [
    "def soluçao_OHM(x_0,omega_0,t):\n",
    "    x_0_ = tc.tensor(x_0)\n",
    "    return x_0_*tc.cos(tc.tensor(omega_0)*t)"
   ]
  },
  {
   "cell_type": "markdown",
   "metadata": {},
   "source": [
    "### Aprendendo a função sabendo os parametros"
   ]
  },
  {
   "cell_type": "code",
   "execution_count": 4,
   "metadata": {},
   "outputs": [
    {
     "name": "stdout",
     "output_type": "stream",
     "text": [
      "5.715476066494082\n"
     ]
    }
   ],
   "source": [
    "x_0 = np.pi/4\n",
    "x_i = 0\n",
    "x_f = 4 \n",
    "Omega_0 = np.sqrt(980/30)\n",
    "print(Omega_0)\n",
    "\n",
    "# Criando os dados de treino\n",
    "t_train = tc.linspace( x_i, x_f, 100, requires_grad = True).reshape(-1,1)\n",
    "y_train = soluçao_OHM( x_0 = x_0, omega_0 = Omega_0 , t = t_train)\n",
    "\n",
    "omega_data = y_train\n",
    "\n",
    "model = Regressao_M(neuronio = 15,M=2,output=2, activation=SineActivation())\n",
    "opt = tc.optim.Adam(params=model.parameters(),lr=0.001)\n",
    "\n"
   ]
  },
  {
   "cell_type": "code",
   "execution_count": 5,
   "metadata": {},
   "outputs": [
    {
     "ename": "RuntimeError",
     "evalue": "The size of tensor a (100) must match the size of tensor b (200) at non-singleton dimension 0",
     "output_type": "error",
     "traceback": [
      "\u001b[1;31m---------------------------------------------------------------------------\u001b[0m",
      "\u001b[1;31mRuntimeError\u001b[0m                              Traceback (most recent call last)",
      "Cell \u001b[1;32mIn[5], line 18\u001b[0m\n\u001b[0;32m     16\u001b[0m \u001b[38;5;66;03m# Edo\u001b[39;00m\n\u001b[0;32m     17\u001b[0m loss_ode_dxdt \u001b[38;5;241m=\u001b[39m tc\u001b[38;5;241m.\u001b[39mmean( (d_theta_dt \u001b[38;5;241m-\u001b[39momega_data)\u001b[38;5;241m*\u001b[39m\u001b[38;5;241m*\u001b[39m\u001b[38;5;241m2\u001b[39m )\n\u001b[1;32m---> 18\u001b[0m loss_ode_dvdt \u001b[38;5;241m=\u001b[39m tc\u001b[38;5;241m.\u001b[39mmean( (\u001b[43md_omega_dt\u001b[49m\u001b[43m \u001b[49m\u001b[38;5;241;43m+\u001b[39;49m\u001b[43m \u001b[49m\u001b[43mOmega_0\u001b[49m\u001b[38;5;241;43m*\u001b[39;49m\u001b[38;5;241;43m*\u001b[39;49m\u001b[38;5;241;43m2\u001b[39;49m\u001b[38;5;241;43m*\u001b[39;49m\u001b[43msolution_theta\u001b[49m )\u001b[38;5;241m*\u001b[39m\u001b[38;5;241m*\u001b[39m\u001b[38;5;241m2\u001b[39m )\n\u001b[0;32m     20\u001b[0m loss \u001b[38;5;241m=\u001b[39m loss_ode_dvdt \u001b[38;5;241m+\u001b[39mloss_ode_dxdt\n\u001b[0;32m     21\u001b[0m \u001b[38;5;66;03m############################################################################\u001b[39;00m\n",
      "\u001b[1;31mRuntimeError\u001b[0m: The size of tensor a (100) must match the size of tensor b (200) at non-singleton dimension 0"
     ]
    }
   ],
   "source": [
    "LOSS = []\n",
    "for epoch in range(2000):\n",
    "    y_preds = model(t_train)\n",
    "    solution_theta = y_preds.reshape(-1,1)\n",
    "\n",
    "    ###########################################################################\n",
    "    d_theta_dt = tc.autograd.grad(solution_theta,\n",
    "                                    t_train, \n",
    "                                    grad_outputs = tc.ones_like(solution_theta),\n",
    "                                    create_graph = True)[0]\n",
    "    d_omega_dt = tc.autograd.grad(d_theta_dt,\n",
    "                                    t_train, \n",
    "                                    grad_outputs = tc.ones_like(d_theta_dt),\n",
    "                                    create_graph=True)[0]\n",
    "\n",
    "    # Edo\n",
    "    loss_ode_dxdt = tc.mean( (d_theta_dt -omega_data)**2 )\n",
    "    loss_ode_dvdt = tc.mean( (d_omega_dt + Omega_0**2*solution_theta )**2 )\n",
    "\n",
    "    loss = loss_ode_dvdt +loss_ode_dxdt\n",
    "    ############################################################################\n",
    "\n",
    "    opt.zero_grad()\n",
    "    loss.backward(retain_graph=True)\n",
    "    opt.step()\n",
    "    \n",
    "    LOSS.append(loss.cpu().detach().numpy())\n",
    "\n",
    "plt.plot(LOSS)\n",
    "plt.legend()\n",
    "plt.yscale('log')\n",
    "plt.show()\n"
   ]
  },
  {
   "cell_type": "code",
   "execution_count": null,
   "metadata": {},
   "outputs": [],
   "source": [
    "t_test = tc.linspace(x_i,x_f,200,requires_grad=True).reshape(-1,1)\n",
    "y_test = soluçao_OHM(x_0 = x_0 ,omega_0 = Omega_0 ,t = t_test)"
   ]
  },
  {
   "cell_type": "code",
   "execution_count": null,
   "metadata": {},
   "outputs": [],
   "source": [
    "y_preds_test = model(t_test)\n",
    "solution_x = y_preds_test[:,0].reshape(-1,1)\n",
    "solution_v = y_preds_test[:,1].reshape(-1,1)\n",
    "\n",
    "fig, ax = plt.subplots(1,2,figsize=(10,4))\n",
    "ax[0].plot(t_test.detach().numpy(), y_test.detach().numpy(),\"k-\", label=\"teorico\")\n",
    "ax[0].plot(t_test.detach().numpy(), solution_x.detach().numpy(),\"r--\", label=f\"simulação x\" )\n",
    "ax[0].legend()\n",
    "\n",
    "ax[1].plot(t_test.detach().numpy(), v_test.detach().numpy(),\"k-\", label=\"teorico\")\n",
    "ax[1].plot(t_test.detach().numpy(), solution_v.detach().numpy(),\"g--\", label=f\"simulação v\" )\n",
    "ax[1].legend()\n",
    "plt.show()"
   ]
  }
 ],
 "metadata": {
  "kernelspec": {
   "display_name": "torch_310",
   "language": "python",
   "name": "python3"
  },
  "language_info": {
   "codemirror_mode": {
    "name": "ipython",
    "version": 3
   },
   "file_extension": ".py",
   "mimetype": "text/x-python",
   "name": "python",
   "nbconvert_exporter": "python",
   "pygments_lexer": "ipython3",
   "version": "3.10.13"
  }
 },
 "nbformat": 4,
 "nbformat_minor": 2
}
