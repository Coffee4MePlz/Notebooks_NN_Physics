{
 "cells": [
  {
   "cell_type": "markdown",
   "id": "fbc86543",
   "metadata": {
    "id": "fbc86543"
   },
   "source": [
    "Nesses jupyter notebooks, irei apresentar os códigos que estão exposto no corpo do texto do artigo."
   ]
  },
  {
   "cell_type": "markdown",
   "id": "bdfa8a81",
   "metadata": {
    "id": "bdfa8a81"
   },
   "source": [
    "Caso você as bibliotecas não estejam instaladas, execute o comando abaixo:\n",
    "pip install --upgrade numpy scikit-learn"
   ]
  },
  {
   "cell_type": "code",
   "execution_count": 1,
   "id": "2dc5da63",
   "metadata": {
    "colab": {
     "base_uri": "https://localhost:8080/"
    },
    "id": "2dc5da63",
    "outputId": "b80a30c5-ee6b-45d2-c719-12f6344dea89"
   },
   "outputs": [
    {
     "name": "stdout",
     "output_type": "stream",
     "text": [
      "Requirement already satisfied: scikit-learn in c:\\anaconda\\lib\\site-packages (1.7.1)\n",
      "Requirement already satisfied: numpy in c:\\anaconda\\lib\\site-packages (2.3.1)\n",
      "Requirement already satisfied: scipy>=1.8.0 in c:\\anaconda\\lib\\site-packages (from scikit-learn) (1.15.3)\n",
      "Requirement already satisfied: joblib>=1.2.0 in c:\\anaconda\\lib\\site-packages (from scikit-learn) (1.4.2)\n",
      "Requirement already satisfied: threadpoolctl>=3.1.0 in c:\\anaconda\\lib\\site-packages (from scikit-learn) (3.5.0)\n"
     ]
    }
   ],
   "source": [
    "# Execute esse comando só a primeira vez que for rodar o código\n",
    "# Caso você as bibliotecas não estejam instaladas, execute o comando abaixo:\n",
    "!pip install scikit-learn numpy"
   ]
  },
  {
   "cell_type": "markdown",
   "id": "b086e199",
   "metadata": {
    "id": "b086e199"
   },
   "source": [
    "Agora vamos verificar as versoes do python numpy e sklearn , para voce reproduzir os resultados\n"
   ]
  },
  {
   "cell_type": "code",
   "execution_count": 15,
   "id": "bd537ae0",
   "metadata": {
    "colab": {
     "base_uri": "https://localhost:8080/"
    },
    "id": "bd537ae0",
    "outputId": "389c8f96-77d5-4f27-9c79-652f894e11a9"
   },
   "outputs": [
    {
     "name": "stdout",
     "output_type": "stream",
     "text": [
      "Python: 3.11.13 (main, Jun  4 2025, 08:57:29) [GCC 11.4.0]\n",
      "NumPy: 2.0.2\n",
      "scikit-learn: 1.6.1\n"
     ]
    }
   ],
   "source": [
    "import sys\n",
    "import numpy\n",
    "import sklearn\n",
    "\n",
    "# Exibe a versão do Python em uso\n",
    "print(\"Python:\", sys.version)\n",
    "# Exibe a versão do NumPy instalada\n",
    "print(\"NumPy:\", numpy.__version__)\n",
    "# Exibe a versão do scikit-learn instalada\n",
    "print(\"scikit-learn:\", sklearn.__version__)\n",
    "\n",
    "# Comentário:\n",
    "# É importante imprimir as versões das bibliotecas e do Python para garantir a reprodutibilidade dos experimentos.\n",
    "# Diferentes versões podem apresentar diferenças de comportamento, funções ou resultados."
   ]
  },
  {
   "cell_type": "markdown",
   "id": "31433a71",
   "metadata": {
    "id": "31433a71"
   },
   "source": [
    "### Entradas (inputs)"
   ]
  },
  {
   "cell_type": "code",
   "execution_count": 16,
   "id": "2dc42e22",
   "metadata": {
    "colab": {
     "base_uri": "https://localhost:8080/"
    },
    "id": "2dc42e22",
    "outputId": "b47991ca-3df2-436e-ddc5-5e9804d4815d"
   },
   "outputs": [
    {
     "name": "stdout",
     "output_type": "stream",
     "text": [
      "[5.1 3.5 1.4 0.2] 0\n"
     ]
    }
   ],
   "source": [
    "# Importando as biblioteca\n",
    "from sklearn import datasets\n",
    "\n",
    "dataset = datasets.load_iris()\n",
    "\n",
    "j = 0  # Indice dos dados\n",
    "x_j = dataset.data[j, :]  # Entrada\n",
    "y_j = dataset.target[j]  # Alvo\n",
    "print(x_j, y_j)"
   ]
  },
  {
   "cell_type": "markdown",
   "id": "dFI16WVpxJDz",
   "metadata": {
    "id": "dFI16WVpxJDz"
   },
   "source": [
    "###  Pesos e bias:"
   ]
  },
  {
   "cell_type": "code",
   "execution_count": 17,
   "id": "c_4-LZP9w_32",
   "metadata": {
    "colab": {
     "base_uri": "https://localhost:8080/"
    },
    "id": "c_4-LZP9w_32",
    "outputId": "0663a110-aefc-41e0-ec5d-45c33bae8bda"
   },
   "outputs": [
    {
     "name": "stdout",
     "output_type": "stream",
     "text": [
      "[6.24]\n"
     ]
    }
   ],
   "source": [
    "import numpy as np\n",
    "\n",
    "w = [1, 0, 0.5, -0.3]\n",
    "b = [0.5]\n",
    "z = np.dot(w, x_j) + b\n",
    "print(z)"
   ]
  },
  {
   "cell_type": "markdown",
   "id": "C14eba4DxZNZ",
   "metadata": {
    "id": "C14eba4DxZNZ"
   },
   "source": [
    "### Função de ativação:"
   ]
  },
  {
   "cell_type": "code",
   "execution_count": 18,
   "id": "-S8q01HKxZgB",
   "metadata": {
    "colab": {
     "base_uri": "https://localhost:8080/"
    },
    "id": "-S8q01HKxZgB",
    "outputId": "e59f35c1-84ff-4f41-e605-49026e83f74a"
   },
   "outputs": [
    {
     "name": "stdout",
     "output_type": "stream",
     "text": [
      "[0.99805394]\n"
     ]
    }
   ],
   "source": [
    "# considerando o valor de z, obtido anteriomente\n",
    "# z = [6.24]\n",
    "def ativacao_sigmoide(z):\n",
    "    f = 1 / (1 + np.exp(-z))\n",
    "    return f\n",
    "\n",
    "\n",
    "y_hat = ativacao_sigmoide(z)\n",
    "print(y_hat)"
   ]
  },
  {
   "cell_type": "markdown",
   "id": "x_Yv3R1MyNy0",
   "metadata": {
    "id": "x_Yv3R1MyNy0"
   },
   "source": [
    "### Função de custo"
   ]
  },
  {
   "cell_type": "code",
   "execution_count": 19,
   "id": "I1DzEvBYyOIM",
   "metadata": {
    "colab": {
     "base_uri": "https://localhost:8080/"
    },
    "id": "I1DzEvBYyOIM",
    "outputId": "9043dc42-6dda-45bc-9a47-a6f8d3b9ca28"
   },
   "outputs": [
    {
     "name": "stdout",
     "output_type": "stream",
     "text": [
      "[0.99611167]\n"
     ]
    }
   ],
   "source": [
    "# y_hat = [0.998], y_0 = [0]\n",
    "# calculo do erro quadratico com j=0\n",
    "loss = (y_j - y_hat) ** 2\n",
    "print(loss)"
   ]
  },
  {
   "cell_type": "markdown",
   "id": "AL6ZEroNyfs9",
   "metadata": {
    "id": "AL6ZEroNyfs9"
   },
   "source": [
    "### Regra de aprendizado dos parâmetro"
   ]
  },
  {
   "cell_type": "code",
   "execution_count": 20,
   "id": "pvQUvZlkyhyF",
   "metadata": {
    "colab": {
     "base_uri": "https://localhost:8080/"
    },
    "id": "pvQUvZlkyhyF",
    "outputId": "fef2adb7-d360-4343-a3f3-8b408e7da51f"
   },
   "outputs": [
    {
     "name": "stdout",
     "output_type": "stream",
     "text": [
      "[ 1.00019773e+00  1.35694583e-04  5.00054278e-01 -2.99992246e-01] [0.50003877]\n"
     ]
    }
   ],
   "source": [
    "eta = 0.01\n",
    "\n",
    "w = w - 2 * eta * (y_j - y_hat) * y_hat * (1 - y_hat) * x_j\n",
    "b = b - 2 * eta * (y_j - y_hat) * y_hat * (1 - y_hat)\n",
    "print(w, b)"
   ]
  },
  {
   "cell_type": "markdown",
   "id": "TonsJl0rzIOj",
   "metadata": {
    "id": "TonsJl0rzIOj"
   },
   "source": [
    "### Juntando"
   ]
  },
  {
   "cell_type": "code",
   "execution_count": 21,
   "id": "A8tqcrFbyg9p",
   "metadata": {
    "id": "A8tqcrFbyg9p"
   },
   "outputs": [],
   "source": [
    "w = [1, 0, 0.5, -0.3]\n",
    "b = [0.5]\n",
    "M = 150\n",
    "eta = 0.01\n",
    "Loss = 0\n",
    "for j in range(M):\n",
    "    x_j = dataset.data[j, :]  # Entrada\n",
    "    y_j = dataset.target[j]  # Alvo/rotulo\n",
    "    z = np.dot(w, x_j) + b\n",
    "    y_hat = ativacao_sigmoide(z)\n",
    "    w = w - 2 * eta * (y_j - y_hat) * y_hat * (1 - y_hat) * x_j\n",
    "    b = b - 2 * eta * (y_j - y_hat) * y_hat * (1 - y_hat)\n",
    "    loss += (y_j - y_hat) ** 2 / M"
   ]
  },
  {
   "cell_type": "markdown",
   "id": "H_gxkuySz4vZ",
   "metadata": {
    "id": "H_gxkuySz4vZ"
   },
   "source": [
    "Essa é a loss para primeira época"
   ]
  },
  {
   "cell_type": "code",
   "execution_count": 22,
   "id": "QN-od3-bzb2N",
   "metadata": {
    "colab": {
     "base_uri": "https://localhost:8080/"
    },
    "id": "QN-od3-bzb2N",
    "outputId": "9808c038-e1fe-4ec2-fb91-45b9442ed4b6"
   },
   "outputs": [
    {
     "data": {
      "text/plain": [
       "array([1.66141792])"
      ]
     },
     "execution_count": 22,
     "metadata": {},
     "output_type": "execute_result"
    }
   ],
   "source": [
    "loss"
   ]
  }
 ],
 "metadata": {
  "colab": {
   "provenance": []
  },
  "kernelspec": {
   "display_name": "base",
   "language": "python",
   "name": "python3"
  },
  "language_info": {
   "codemirror_mode": {
    "name": "ipython",
    "version": 3
   },
   "file_extension": ".py",
   "mimetype": "text/x-python",
   "name": "python",
   "nbconvert_exporter": "python",
   "pygments_lexer": "ipython3",
   "version": "3.12.7"
  }
 },
 "nbformat": 4,
 "nbformat_minor": 5
}
